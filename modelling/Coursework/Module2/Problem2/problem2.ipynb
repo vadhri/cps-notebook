{
 "cells": [
  {
   "cell_type": "markdown",
   "metadata": {},
   "source": [
    "### a) **Construct a truth table associated with the finite-state machine:**\n",
    "\n",
    "This FSM has two states, **A** and **B**, and two inputs, **0** and **1**. We can construct a truth table that describes the transitions between these states based on the input.\n",
    "\n",
    "| Current State | Input | Next State |\n",
    "|---------------|-------|------------|\n",
    "| A             | 0     | B          |\n",
    "| A             | 1     | A          |\n",
    "| B             | 0     | B          |\n",
    "| B             | 1     | A          |\n",
    "\n",
    "- **From state A**: \n",
    "  - If the input is **0**, the FSM moves to state **B**.\n",
    "  - If the input is **1**, it stays in state **A**.\n",
    "  \n",
    "- **From state B**:\n",
    "  - If the input is **0**, the FSM stays in state **B**.\n",
    "  - If the input is **1**, the FSM moves to state **A**.\n",
    "\n",
    "---\n",
    "\n",
    "### b) **Determine the elements required to define the finite-state machine:**\n",
    "\n",
    "To define a finite-state machine (FSM), we need the following elements:\n",
    "\n",
    "1. **States**: The different states the machine can be in.\n",
    "   - In this case, the states are **A** and **B**.\n",
    "\n",
    "2. **Input Alphabet (Σ)**: The set of possible inputs.\n",
    "   - Here, the input alphabet is {**0**, **1**}.\n",
    "\n",
    "3. **Transition Function (δ)**: A function that takes a state and an input and returns the next state.\n",
    "   - From the truth table, the transition function can be defined as:\n",
    "     - δ(A, 0) = B\n",
    "     - δ(A, 1) = A\n",
    "     - δ(B, 0) = B\n",
    "     - δ(B, 1) = A\n",
    "\n",
    "4. **Start State**: The state where the FSM begins.\n",
    "   - The start state is **A** (as indicated by the arrow).\n",
    "\n",
    "5. **Accept States (Final States)**: The states that signify the successful completion of the machine’s operation.\n",
    "   - The problem does not mention any accept states, so this is likely a regular FSM with no specific accept state for now.\n",
    "\n",
    "---\n",
    "\n",
    "### C) **Simulation:**\n",
    "The top diagram represents the output q state and lower diagram represents the input sequence. \n",
    "\n",
    "#1:11001100 \n",
    "\n",
    "<img src=\"./0101.jpg\" width=\"700\" height=\"400\" />\n",
    "\n",
    "#2:01010101 \n",
    "\n",
    "<img src=\"./11001100.jpg\" width=\"700\" height=\"400\" />"
   ]
  },
  {
   "cell_type": "markdown",
   "metadata": {},
   "source": []
  }
 ],
 "metadata": {
  "language_info": {
   "name": "python"
  }
 },
 "nbformat": 4,
 "nbformat_minor": 2
}
