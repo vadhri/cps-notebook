{
 "cells": [
  {
   "cell_type": "markdown",
   "metadata": {},
   "source": [
    "\n",
    "### a) FSM for the water tank system:\n",
    "\n",
    "1. **States**:\n",
    "   - **State 1**: `Water_On`: The water faucet is on, and the system is filling the tank.\n",
    "   - **State 2**: `Water_Off`: The water faucet is off.\n",
    "\n",
    "2. **Input Alphabet**:\n",
    "   - The input is the water level $ h $, with thresholds:\n",
    "     - $ h_{\\min} $: Minimum water level for turning on the faucet.\n",
    "     - $ h_{\\max} $: Maximum water level for turning off the faucet.\n",
    "\n",
    "3. **Transitions**:\n",
    "   - From `Water_On` to `Water_Off`: If $ h \\geq h_{\\max} $, turn off the faucet.\n",
    "   - From `Water_Off` to `Water_On`: If $ h \\leq h_{\\min} $, turn on the faucet.\n",
    "\n",
    "4. **Initial State**: \n",
    "   - Start in `Water_Off`, assuming the tank begins with a water level above $ h_{\\max} $.\n",
    "\n",
    "5. **Output**:\n",
    "   - In `Water_On`, the output is \"Faucet On\".\n",
    "   - In `Water_Off`, the output is \"Faucet Off\".\n",
    "\n",
    "### FSM Representation:\n",
    "\n",
    "- **State 1: Water_On (Faucet On)**\n",
    "  - Transition: If $ h \\geq h_{\\max} $, move to State 2 (`Water_Off`).\n",
    "  \n",
    "- **State 2: Water_Off (Faucet Off)**\n",
    "  - Transition: If $ h \\leq h_{\\min} $, move to State 1 (`Water_On`).\n",
    "\n",
    "---\n",
    "\n",
    "### b) Is the FSM model pure or with conditional structures?\n",
    "\n",
    "The FSM remains **with conditional structures**, as transitions between states depend on the conditions set by the water levels $ h_{\\min} $ and $ h_{\\max} $.\n",
    "\n",
    "---\n",
    "\n",
    "### c) Is the FSM model deterministic or nondeterministic?\n",
    "\n",
    "The FSM is **deterministic**. The next state is uniquely determined by the current state and the water level $ h $. There is no ambiguity in the transitions.\n",
    "\n",
    "---\n",
    "\n",
    "### d) Does the FSM model terminate (accept a state)?\n",
    "\n",
    "The FSM does **not terminate**, as it cycles indefinitely between the `Water_On` and `Water_Off` states to maintain the water level."
   ]
  }
 ],
 "metadata": {
  "language_info": {
   "name": "python"
  }
 },
 "nbformat": 4,
 "nbformat_minor": 2
}
