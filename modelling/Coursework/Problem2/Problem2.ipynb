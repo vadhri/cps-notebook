{
 "cells": [
  {
   "cell_type": "markdown",
   "metadata": {},
   "source": [
    "If $ z_1 $, $ z_2 $, $ \\tilde{m} $, $ b $, and $ u $ are provided as parameters, the equations of motion will explicitly incorporate these values.\n",
    "\n",
    "Here’s how we express them:\n",
    "\n",
    "### Equations of Motion with Provided Parameters:\n",
    "\n",
    "1. **Position Equation**:\n",
    "   $\n",
    "   \\frac{dz_1}{dt} = z_2\n",
    "   $\n",
    "   This equation still represents the fact that the **rate of change of position** is equal to the **velocity** $ z_2 $.\n",
    "\n",
    "2. **Velocity Equation**:\n",
    "   $\n",
    "   \\frac{dz_2}{dt} = \\frac{u - b \\cdot z_2}{\\tilde{m}}\n",
    "   $\n",
    "   This represents the **rate of change of velocity** $ z_2 $ based on the net force applied, where:\n",
    "   - $ u $: Applied horizontal force,\n",
    "   - $ b $: Viscous friction coefficient,\n",
    "   - $ z_2 $: Current velocity,\n",
    "   - $ \\tilde{m} $: Mass of the particle.\n",
    "\n",
    "Given these equations and assuming that you have values for $ z_1 $, $ z_2 $, $ \\tilde{m} $, $ b $, and $ u $, you can numerically simulate the system or solve it analytically depending on the situation.\n",
    "\n",
    "### Example Values:\n",
    "If we assume specific values for the parameters:\n",
    "- $ \\tilde{m} = 1 $ kg (unit mass),\n",
    "- $ b = 1 $ N·s/m (unit friction),\n",
    "- $ u = 1 $ N (constant unit force),\n",
    "\n",
    "The equations simplify to:\n",
    "\n",
    "1. $\n",
    "   \\frac{dz_1}{dt} = z_2\n",
    "   $\n",
    "\n",
    "2. $\n",
    "   \\frac{dz_2}{dt} = 1 - z_2\n",
    "   $\n",
    "\n",
    "These can be integrated numerically or solved analytically to describe the particle's motion over time. Would you like me to help with the next step, such as solving or simulating this system?"
   ]
  },
  {
   "cell_type": "markdown",
   "metadata": {},
   "source": [
    "### Horizontal position and velocity change\n",
    "<img src=\"./Position_Velocity_Evolution.jpg\" width=\"700\" height=\"400\" />\n",
    "\n"
   ]
  },
  {
   "cell_type": "markdown",
   "metadata": {},
   "source": [
    "### Temperature plots\n",
    "\n",
    "#### Initial temp = 0 \n",
    "<img src=\"./Temp-0.jpg\" width=\"700\" height=\"400\" />\n",
    "\n",
    "#### Initial temp = 120\n",
    "<img src=\"./Temp-120.jpg\" width=\"700\" height=\"400\" />\n",
    "\n"
   ]
  }
 ],
 "metadata": {
  "kernelspec": {
   "display_name": "base",
   "language": "python",
   "name": "python3"
  },
  "language_info": {
   "codemirror_mode": {
    "name": "ipython",
    "version": 3
   },
   "file_extension": ".py",
   "mimetype": "text/x-python",
   "name": "python",
   "nbconvert_exporter": "python",
   "pygments_lexer": "ipython3",
   "version": "3.9.13"
  }
 },
 "nbformat": 4,
 "nbformat_minor": 2
}
