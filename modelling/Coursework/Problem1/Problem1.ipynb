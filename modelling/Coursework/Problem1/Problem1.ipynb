{
 "cells": [
  {
   "cell_type": "markdown",
   "metadata": {},
   "source": [
    "### a) Analytical Expression of the Trajectories $z_1(t) $ and $ z_2(t) $:\n",
    "\n",
    "Consider a car moving along a straight line on a plane with a constant (nonzero) speed. Let the vector $ \\mathbf{r} = (r_1, r_2) \\in \\mathbb{R}^2 $ represent the direction of motion of the car. The car moves with a constant speed $ v $, so the velocity vector of the car is given by $ v \\mathbf{r} = v (r_1, r_2) $, where $ r_1^2 + r_2^2 = 1 $ (assuming $ \\mathbf{r} $ is a unit vector for simplicity).\n",
    "\n",
    "We can assume that if the directional vector is making an angle $\\theta$ with the axis then the vector values would be $ [cos(\\theta), sin(\\theta)] $\n",
    "\n",
    "The equations of motion are linear because the car moves with constant velocity in the direction of $ \\mathbf{r} $. Therefore, the horizontal position $ z_1(t) $ and vertical position $ z_2(t) $ as a function of time $ t $ can be expressed as:\n",
    "\n",
    "$ z_1(t) = z_1(t-1) + v r_1 $\n",
    "\n",
    "$ z_2(t) = z_2(t-1) + v r_2 $\n",
    "\n",
    "Where:\n",
    "- $ z_{1,0} $ and $ z_{2,0} $ are the initial positions of the car on the plane.\n",
    "- $ v $ is the constant speed of the car.\n",
    "- $ r_1 $ and $ r_2 $ are the components of the direction vector $ \\mathbf{r} $.\n",
    "\n",
    "Thus, the car moves along the straight line defined by the direction $ \\mathbf{r} $, and the equations of motion $ z_1(t) $ and $ z_2(t) $ describe its trajectory as a function of time $ t $.\n"
   ]
  },
  {
   "cell_type": "markdown",
   "metadata": {},
   "source": [
    "### Directional vector at 45 degrees angle\n",
    "<img src=\"./Model_direction_45.jpg\" width=\"400\" height=\"400\" />\n",
    "\n",
    "### Directional vector at 60 degrees angle\n",
    "<img src=\"./Model_direction_60.jpg\" width=\"400\" height=\"400\" />\n",
    "\n",
    "### Directional vector at -45 degrees angle\n",
    "<img src=\"./Model_direction_Minus_45.jpg\" width=\"400\" height=\"400\" />"
   ]
  },
  {
   "cell_type": "markdown",
   "metadata": {},
   "source": [
    "\n",
    "### b) Can the Vehicle Reach an Arbitrary Position on the Plane?\n",
    "\n",
    "Given the initial position $ (z_{1,0}, z_{2,0}) $, the trajectory of the car is determined by the direction vector $ \\mathbf{r} = (r_1, r_2) $ and the constant speed $ v $. Since the car moves along a straight line, it will not be able to reach an arbitrary position on the plane unless the destination lies on the line defined by the initial position and direction vector $ \\mathbf{r} $.\n",
    "\n",
    "In other words:\n",
    "- The car can only move along the line defined by $ (z_{1,0}, z_{2,0}) $ and the direction $ \\mathbf{r} $.\n",
    "- If the target position is not on this line, the car will not be able to reach it by following a straight-line trajectory.\n",
    "\n",
    "### Justification:\n",
    "The motion of the car is governed by the linear equations derived in part (a). Since these equations describe motion along a straight line, the car is constrained to this line, and it cannot make arbitrary turns or change direction without altering the velocity vector $ \\mathbf{r} $. Therefore, the car cannot reach every possible point on the plane; it is limited to the points lying on its trajectory line."
   ]
  }
 ],
 "metadata": {
  "kernelspec": {
   "display_name": "base",
   "language": "python",
   "name": "python3"
  },
  "language_info": {
   "codemirror_mode": {
    "name": "ipython",
    "version": 3
   },
   "file_extension": ".py",
   "mimetype": "text/x-python",
   "name": "python",
   "nbconvert_exporter": "python",
   "pygments_lexer": "ipython3",
   "version": "3.9.13"
  }
 },
 "nbformat": 4,
 "nbformat_minor": 2
}
